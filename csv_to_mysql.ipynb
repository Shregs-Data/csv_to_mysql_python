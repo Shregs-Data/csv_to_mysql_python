{
 "cells": [
  {
   "cell_type": "code",
   "execution_count": 17,
   "id": "8b75aad3",
   "metadata": {},
   "outputs": [],
   "source": [
    "import csv\n",
    "import pandas as pd\n",
    "import mysql.connector"
   ]
  },
  {
   "cell_type": "code",
   "execution_count": 18,
   "id": "f49b3769",
   "metadata": {},
   "outputs": [],
   "source": [
    "def upload_csv(input_path, output_path, needed_columns, host, user, password, database, table_name):\n",
    "    try:\n",
    "        df = pd.read_csv('june_closed_vuln1.csv')\n",
    "\n",
    "        df['Month'] = 'June'\n",
    "\n",
    "        cleaned_df = df[needed_columns]\n",
    "\n",
    "        cleaned_df.to_csv(output_path, index=False)\n",
    "\n",
    "        print(f\"CSV file cleaned successfully. Saved to {output_path}\")\n",
    "\n",
    "        upload_table(output_path, ',', host, user, password, database, table_name)\n",
    "\n",
    "\n",
    "    except Exception as e:\n",
    "        print(f\"Error: {e}\")"
   ]
  },
  {
   "cell_type": "code",
   "execution_count": 19,
   "id": "7a42f7d5",
   "metadata": {},
   "outputs": [],
   "source": [
    "def upload_table(file_path, delim, host, user, password, database, table_name):\n",
    "\n",
    "    try:\n",
    "        connection = mysql.connector.connect(\n",
    "            host=host,\n",
    "            user=user,\n",
    "            password=password,\n",
    "            database=database,\n",
    "            auth_plugin='mysql_native_password'\n",
    "        )\n",
    "\n",
    "        cursor = connection.cursor()\n",
    "\n",
    "        with open(file_path,  'r' ) as f:\n",
    "            reader = csv.reader(f, delimiter=delim)\n",
    "\n",
    "            next(reader, None)\n",
    "\n",
    "            for row in reader:\n",
    "                row = ['NULL' if val == '' else val for val in row]\n",
    "                row = [x.replace(\"'\", \"''\") for x in row]\n",
    "                out = \"'\" + \"', '\".join(str(item) for item in row) + \"'\"\n",
    "                out = out.replace(\"'NULL'\", 'NULL')\n",
    "\n",
    "                query = f\"INSERT INTO {table_name} VALUES ({out})\"\n",
    "                cursor.execute(query)\n",
    "\n",
    "        connection.commit()\n",
    "        connection.close()\n",
    "\n",
    "        print(f\"Uploaded data to table {table_name}.\")\n",
    "\n",
    "    except Exception as e:\n",
    "        print(f\"Error: {e}\")"
   ]
  },
  {
   "cell_type": "code",
   "execution_count": 20,
   "id": "480d880e",
   "metadata": {},
   "outputs": [
    {
     "name": "stdout",
     "output_type": "stream",
     "text": [
      "CSV file cleaned successfully. Saved to cleaned_june_closed.csv\n",
      "Uploaded data to table Closed_vulnerabilities.\n"
     ]
    }
   ],
   "source": [
    "input_csv_path = 'june_closed_vuln1.csv'\n",
    "output_csv_path = 'cleaned_june_closed.csv'\n",
    "needed_columns_list = ['Month', 'Server IP', 'Severity', 'Vulnerability Name']\n",
    "\n",
    "upload_csv(\n",
    "    input_csv_path,\n",
    "    output_csv_path,\n",
    "    needed_columns_list,\n",
    "    '********', #Host name\n",
    "    '********', #db name\n",
    "    '********', #u_name\n",
    "    '********', #pword\n",
    "    '**********' #table_name\n",
    ")"
   ]
  },
  {
   "cell_type": "code",
   "execution_count": null,
   "id": "43d63bda",
   "metadata": {},
   "outputs": [],
   "source": []
  },
  {
   "cell_type": "code",
   "execution_count": 15,
   "id": "953b6e8f",
   "metadata": {},
   "outputs": [],
   "source": []
  },
  {
   "cell_type": "code",
   "execution_count": 10,
   "id": "b67c4298",
   "metadata": {},
   "outputs": [],
   "source": []
  },
  {
   "cell_type": "code",
   "execution_count": null,
   "id": "ffc4804b",
   "metadata": {},
   "outputs": [],
   "source": []
  },
  {
   "cell_type": "code",
   "execution_count": null,
   "id": "88e040df",
   "metadata": {},
   "outputs": [],
   "source": []
  }
 ],
 "metadata": {
  "kernelspec": {
   "display_name": "Python 3 (ipykernel)",
   "language": "python",
   "name": "python3"
  },
  "language_info": {
   "codemirror_mode": {
    "name": "ipython",
    "version": 3
   },
   "file_extension": ".py",
   "mimetype": "text/x-python",
   "name": "python",
   "nbconvert_exporter": "python",
   "pygments_lexer": "ipython3",
   "version": "3.11.5"
  }
 },
 "nbformat": 4,
 "nbformat_minor": 5
}
